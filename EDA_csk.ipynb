{
 "cells": [
  {
   "cell_type": "markdown",
   "metadata": {},
   "source": [
    "# EDA"
   ]
  },
  {
   "cell_type": "code",
   "execution_count": 1,
   "metadata": {},
   "outputs": [],
   "source": [
    "import numpy as np\n",
    "import pandas as pd\n",
    "\n",
    "import pyspark as ps"
   ]
  },
  {
   "cell_type": "code",
   "execution_count": 2,
   "metadata": {},
   "outputs": [],
   "source": [
    "spark = (ps.sql.SparkSession.builder \n",
    "        .master(\"local[4]\") \n",
    "        .appName(\"mov_rec\") \n",
    "        .getOrCreate()\n",
    "        )\n",
    "sc = spark.sparkContext"
   ]
  },
  {
   "cell_type": "code",
   "execution_count": 3,
   "metadata": {},
   "outputs": [],
   "source": [
    "rat_rdd = spark.read.format('com.databricks.spark.csv').\\\n",
    "                            options(header='true',\\\n",
    "                            inferschema='true').\\\n",
    "                            load('data/ml-latest-small/ratings.csv', header=True)\n",
    "        "
   ]
  },
  {
   "cell_type": "code",
   "execution_count": 4,
   "metadata": {},
   "outputs": [
    {
     "name": "stdout",
     "output_type": "stream",
     "text": [
      "+------+-------+------+---------+\n",
      "|userId|movieId|rating|timestamp|\n",
      "+------+-------+------+---------+\n",
      "|     1|      1|   4.0|964982703|\n",
      "|     1|      3|   4.0|964981247|\n",
      "|     1|      6|   4.0|964982224|\n",
      "|     1|     47|   5.0|964983815|\n",
      "|     1|     50|   5.0|964982931|\n",
      "+------+-------+------+---------+\n",
      "only showing top 5 rows\n",
      "\n"
     ]
    }
   ],
   "source": [
    "rat_rdd.show(5)"
   ]
  },
  {
   "cell_type": "code",
   "execution_count": 5,
   "metadata": {},
   "outputs": [
    {
     "data": {
      "text/plain": [
       "[Row(userId=610, movieId=166534, rating=4.0, timestamp=1493848402),\n",
       " Row(userId=610, movieId=168248, rating=5.0, timestamp=1493850091),\n",
       " Row(userId=610, movieId=168250, rating=5.0, timestamp=1494273047),\n",
       " Row(userId=610, movieId=168252, rating=5.0, timestamp=1493846352),\n",
       " Row(userId=610, movieId=170875, rating=3.0, timestamp=1493846415)]"
      ]
     },
     "execution_count": 5,
     "metadata": {},
     "output_type": "execute_result"
    }
   ],
   "source": [
    "rat_rdd.tail(5)"
   ]
  },
  {
   "cell_type": "code",
   "execution_count": 6,
   "metadata": {},
   "outputs": [
    {
     "name": "stdout",
     "output_type": "stream",
     "text": [
      "root\n",
      " |-- userId: integer (nullable = true)\n",
      " |-- movieId: integer (nullable = true)\n",
      " |-- rating: double (nullable = true)\n",
      " |-- timestamp: integer (nullable = true)\n",
      "\n"
     ]
    }
   ],
   "source": [
    "rat_rdd.printSchema()"
   ]
  },
  {
   "cell_type": "code",
   "execution_count": 7,
   "metadata": {},
   "outputs": [],
   "source": [
    "mov_rdd = spark.read.format('com.databricks.spark.csv').\\\n",
    "                            options(header='true',\\\n",
    "                            inferschema='true').\\\n",
    "                            load('data/ml-latest-small/movies.csv', header=True)\n",
    "        "
   ]
  },
  {
   "cell_type": "code",
   "execution_count": 8,
   "metadata": {},
   "outputs": [],
   "source": [
    "# tags_rdd = spark.read.format('com.databricks.spark.csv').\\\n",
    "#                              options(header='true',\\\n",
    "#                              inferschema='true').\\\n",
    "#                              load('data/ml-latest-small/tags.csv', header=True)\n",
    "        "
   ]
  },
  {
   "cell_type": "code",
   "execution_count": 9,
   "metadata": {},
   "outputs": [
    {
     "name": "stdout",
     "output_type": "stream",
     "text": [
      "+-------+--------------------+--------------------+\n",
      "|movieId|               title|              genres|\n",
      "+-------+--------------------+--------------------+\n",
      "|      1|    Toy Story (1995)|Adventure|Animati...|\n",
      "|      2|      Jumanji (1995)|Adventure|Childre...|\n",
      "|      3|Grumpier Old Men ...|      Comedy|Romance|\n",
      "|      4|Waiting to Exhale...|Comedy|Drama|Romance|\n",
      "|      5|Father of the Bri...|              Comedy|\n",
      "+-------+--------------------+--------------------+\n",
      "only showing top 5 rows\n",
      "\n"
     ]
    }
   ],
   "source": [
    "mov_rdd.show(5)"
   ]
  },
  {
   "cell_type": "code",
   "execution_count": 10,
   "metadata": {},
   "outputs": [
    {
     "name": "stdout",
     "output_type": "stream",
     "text": [
      "+------+-------+------+---------+\n",
      "|userId|movieId|rating|timestamp|\n",
      "+------+-------+------+---------+\n",
      "|     1|      1|   4.0|964982703|\n",
      "|     1|      3|   4.0|964981247|\n",
      "|     1|      6|   4.0|964982224|\n",
      "|     1|     47|   5.0|964983815|\n",
      "|     1|     50|   5.0|964982931|\n",
      "+------+-------+------+---------+\n",
      "only showing top 5 rows\n",
      "\n"
     ]
    }
   ],
   "source": [
    "rat_rdd.show(5)"
   ]
  },
  {
   "cell_type": "code",
   "execution_count": 11,
   "metadata": {},
   "outputs": [],
   "source": [
    "mov_rdd.createOrReplaceTempView(\"mov_rdd\")\n",
    "rat_rdd.createOrReplaceTempView(\"rat_rdd\")"
   ]
  },
  {
   "cell_type": "code",
   "execution_count": 12,
   "metadata": {},
   "outputs": [],
   "source": [
    "# tags_rdd.show(5)"
   ]
  },
  {
   "cell_type": "markdown",
   "metadata": {},
   "source": [
    "Leave out timestamp..."
   ]
  },
  {
   "cell_type": "code",
   "execution_count": 13,
   "metadata": {},
   "outputs": [],
   "source": [
    "mov_surprise = spark.sql(\n",
    "'''\n",
    "SELECT ratings.userId, movies.title, ratings.rating \n",
    "  FROM mov_rdd AS movies\n",
    "  JOIN rat_rdd AS ratings\n",
    "    ON movies.movieId = ratings.movieId\n",
    "'''\n",
    ")"
   ]
  },
  {
   "cell_type": "code",
   "execution_count": 14,
   "metadata": {},
   "outputs": [],
   "source": [
    "mov_surprise.createOrReplaceTempView(\"mov_surprise\")"
   ]
  },
  {
   "cell_type": "code",
   "execution_count": 15,
   "metadata": {},
   "outputs": [
    {
     "name": "stdout",
     "output_type": "stream",
     "text": [
      "+------+--------------------+------+\n",
      "|userId|               title|rating|\n",
      "+------+--------------------+------+\n",
      "|     1|    Toy Story (1995)|   4.0|\n",
      "|     1|Grumpier Old Men ...|   4.0|\n",
      "|     1|         Heat (1995)|   4.0|\n",
      "|     1|Seven (a.k.a. Se7...|   5.0|\n",
      "|     1|Usual Suspects, T...|   5.0|\n",
      "+------+--------------------+------+\n",
      "only showing top 5 rows\n",
      "\n"
     ]
    }
   ],
   "source": [
    "mov_surprise.show(5)"
   ]
  },
  {
   "cell_type": "markdown",
   "metadata": {},
   "source": [
    "# Similarity Based Recommender using Surprise"
   ]
  },
  {
   "cell_type": "markdown",
   "metadata": {},
   "source": [
    "Begin by reimplementing the similarity based recommender."
   ]
  },
  {
   "cell_type": "code",
   "execution_count": 16,
   "metadata": {
    "jupyter": {
     "source_hidden": true
    }
   },
   "outputs": [],
   "source": [
    "# pip install surprise"
   ]
  },
  {
   "cell_type": "code",
   "execution_count": 17,
   "metadata": {
    "jupyter": {
     "source_hidden": true
    }
   },
   "outputs": [],
   "source": [
    "from surprise import KNNBasic, KNNWithMeans, SVD\n",
    "\n",
    "from surprise import Dataset\n",
    "from surprise import Reader\n",
    "\n",
    "from surprise.model_selection import cross_validate\n",
    "\n",
    "mov_surprise = mov_surprise[mov_surprise['rating']!=0]\n",
    "\n",
    "reader = Reader(rating_scale=(1,5))"
   ]
  },
  {
   "cell_type": "code",
   "execution_count": 18,
   "metadata": {},
   "outputs": [
    {
     "data": {
      "text/plain": [
       "[Row(userId=1, title='Toy Story (1995)', rating=4.0),\n",
       " Row(userId=1, title='Grumpier Old Men (1995)', rating=4.0),\n",
       " Row(userId=1, title='Heat (1995)', rating=4.0),\n",
       " Row(userId=1, title='Seven (a.k.a. Se7en) (1995)', rating=5.0),\n",
       " Row(userId=1, title='Usual Suspects, The (1995)', rating=5.0)]"
      ]
     },
     "execution_count": 18,
     "metadata": {},
     "output_type": "execute_result"
    }
   ],
   "source": [
    "mov_surprise.head(5)"
   ]
  },
  {
   "cell_type": "code",
   "execution_count": 19,
   "metadata": {},
   "outputs": [
    {
     "name": "stdout",
     "output_type": "stream",
     "text": [
      "   userId                        title  rating\n",
      "0       1             Toy Story (1995)     4.0\n",
      "1       1      Grumpier Old Men (1995)     4.0\n",
      "2       1                  Heat (1995)     4.0\n",
      "3       1  Seven (a.k.a. Se7en) (1995)     5.0\n",
      "4       1   Usual Suspects, The (1995)     5.0\n"
     ]
    }
   ],
   "source": [
    "# convert to pandas DataFrame\n",
    "# warning, if file is too large, this will likely crash...\n",
    "mov_pDF = mov_surprise.toPandas()\n",
    "print(mov_pDF.head(5))\n",
    "\n",
    "surprise_movie_ratings = Dataset.load_from_df(mov_pDF, reader)"
   ]
  },
  {
   "cell_type": "code",
   "execution_count": 26,
   "metadata": {},
   "outputs": [
    {
     "name": "stdout",
     "output_type": "stream",
     "text": [
      "        userId                           title  rating\n",
      "100831     610                    Split (2017)     4.0\n",
      "100832     610   John Wick: Chapter Two (2017)     5.0\n",
      "100833     610                  Get Out (2017)     5.0\n",
      "100834     610                    Logan (2017)     5.0\n",
      "100835     610  The Fate of the Furious (2017)     3.0\n"
     ]
    }
   ],
   "source": [
    "print(mov_pDF.tail(5))"
   ]
  },
  {
   "cell_type": "code",
   "execution_count": 20,
   "metadata": {},
   "outputs": [
    {
     "data": {
      "text/plain": [
       "[Prediction(uid=1, iid='Shawshank Redemption, The (1994)', r_ui=3.501556983616962, est=5, details={'was_impossible': False}),\n",
       " Prediction(uid=1, iid='Good Will Hunting (1997)', r_ui=3.501556983616962, est=4.8771984835524345, details={'was_impossible': False}),\n",
       " Prediction(uid=1, iid='Kill Bill: Vol. 1 (2003)', r_ui=3.501556983616962, est=4.754638717718587, details={'was_impossible': False}),\n",
       " Prediction(uid=1, iid='Collateral (2004)', r_ui=3.501556983616962, est=4.815890037034838, details={'was_impossible': False}),\n",
       " Prediction(uid=1, iid='Talladega Nights: The Ballad of Ricky Bobby (2006)', r_ui=3.501556983616962, est=4.2307717583333995, details={'was_impossible': False})]"
      ]
     },
     "execution_count": 20,
     "metadata": {},
     "output_type": "execute_result"
    }
   ],
   "source": [
    "# treat data as training set\n",
    "training_movie_data = surprise_movie_ratings.build_full_trainset()\n",
    "\n",
    "# anything not a user-item rating pair as test\n",
    "# no data for this, so we can't do an eval on out of sample accuracy\n",
    "testing_movie_data = training_movie_data.build_anti_testset()\n",
    "\n",
    "# create instance of recommender algorithm object\n",
    "# algo = KNNBasic()\n",
    "algo = SVD()\n",
    "\n",
    "# fit it on the training data\n",
    "algo.fit(training_movie_data)\n",
    "\n",
    "# predict on the test data\n",
    "predictions = algo.test(testing_movie_data)\n",
    "\n",
    "# print the first 5 predictions\n",
    "predictions[:5]"
   ]
  },
  {
   "cell_type": "code",
   "execution_count": 27,
   "metadata": {},
   "outputs": [
    {
     "data": {
      "text/plain": [
       "[Prediction(uid=610, iid='United States of Leland, The (2003)', r_ui=3.501556983616962, est=3.3642857817040417, details={'was_impossible': False}),\n",
       " Prediction(uid=610, iid='A Home at the End of the World (2004)', r_ui=3.501556983616962, est=3.9601784135041065, details={'was_impossible': False}),\n",
       " Prediction(uid=610, iid='League of Ordinary Gentlemen, A (2004)', r_ui=3.501556983616962, est=3.8935970608876724, details={'was_impossible': False}),\n",
       " Prediction(uid=610, iid='I Think I Love My Wife (2007)', r_ui=3.501556983616962, est=3.2313508254879526, details={'was_impossible': False}),\n",
       " Prediction(uid=610, iid='Man of the Year (1995)', r_ui=3.501556983616962, est=3.4967239551622185, details={'was_impossible': False})]"
      ]
     },
     "execution_count": 27,
     "metadata": {},
     "output_type": "execute_result"
    }
   ],
   "source": [
    "predictions[-5:]"
   ]
  },
  {
   "cell_type": "code",
   "execution_count": 22,
   "metadata": {},
   "outputs": [
    {
     "name": "stdout",
     "output_type": "stream",
     "text": [
      "Evaluating RMSE, MAE of algorithm SVD on 5 split(s).\n",
      "\n",
      "                  Fold 1  Fold 2  Fold 3  Fold 4  Fold 5  Mean    Std     \n",
      "RMSE (testset)    0.8721  0.8689  0.8769  0.8609  0.8676  0.8693  0.0053  \n",
      "MAE (testset)     0.6697  0.6674  0.6752  0.6618  0.6667  0.6682  0.0044  \n",
      "Fit time          3.00    2.77    2.96    2.80    2.67    2.84    0.12    \n",
      "Test time         0.35    0.36    0.31    0.30    0.26    0.32    0.04    \n"
     ]
    },
    {
     "data": {
      "text/plain": [
       "{'test_rmse': array([0.87209268, 0.86891766, 0.87692285, 0.86086742, 0.86756916]),\n",
       " 'test_mae': array([0.66973578, 0.66740167, 0.67518763, 0.66177259, 0.66667806]),\n",
       " 'fit_time': (3.004497766494751,\n",
       "  2.7695112228393555,\n",
       "  2.956921100616455,\n",
       "  2.801307201385498,\n",
       "  2.6742496490478516),\n",
       " 'test_time': (0.34892988204956055,\n",
       "  0.36215710639953613,\n",
       "  0.3130302429199219,\n",
       "  0.3012969493865967,\n",
       "  0.26192665100097656)}"
      ]
     },
     "execution_count": 22,
     "metadata": {},
     "output_type": "execute_result"
    }
   ],
   "source": [
    "# standard format for cross validation\n",
    "# algorithm used, ratings dataset, metrics, number of cross validations, verbose controls how much output\n",
    "cross_validate(SVD(n_factors=5, reg_all=0.005), \n",
    "               surprise_movie_ratings, \n",
    "               measures=['RMSE', 'MAE'], \n",
    "               cv=5, \n",
    "               verbose=True)"
   ]
  },
  {
   "cell_type": "code",
   "execution_count": 23,
   "metadata": {},
   "outputs": [
    {
     "name": "stdout",
     "output_type": "stream",
     "text": [
      "Computing the msd similarity matrix...\n",
      "Done computing similarity matrix.\n",
      "Computing the msd similarity matrix...\n",
      "Done computing similarity matrix.\n",
      "Computing the msd similarity matrix...\n",
      "Done computing similarity matrix.\n",
      "Computing the msd similarity matrix...\n",
      "Done computing similarity matrix.\n",
      "Computing the msd similarity matrix...\n",
      "Done computing similarity matrix.\n",
      "Evaluating RMSE, MAE of algorithm KNNBasic on 5 split(s).\n",
      "\n",
      "                  Fold 1  Fold 2  Fold 3  Fold 4  Fold 5  Mean    Std     \n",
      "RMSE (testset)    0.9571  0.9584  0.9560  0.9515  0.9598  0.9565  0.0028  \n",
      "MAE (testset)     0.7297  0.7319  0.7291  0.7268  0.7315  0.7298  0.0018  \n",
      "Fit time          0.14    0.15    0.15    0.16    0.15    0.15    0.01    \n",
      "Test time         1.83    1.94    2.09    1.95    2.02    1.97    0.09    \n"
     ]
    },
    {
     "data": {
      "text/plain": [
       "{'test_rmse': array([0.95705719, 0.95842414, 0.95603549, 0.95145238, 0.95976063]),\n",
       " 'test_mae': array([0.72970274, 0.73185797, 0.72910948, 0.72677405, 0.73152203]),\n",
       " 'fit_time': (0.13529372215270996,\n",
       "  0.15058279037475586,\n",
       "  0.15323519706726074,\n",
       "  0.15837955474853516,\n",
       "  0.148087739944458),\n",
       " 'test_time': (1.8297433853149414,\n",
       "  1.943314790725708,\n",
       "  2.0880744457244873,\n",
       "  1.9499742984771729,\n",
       "  2.0177345275878906)}"
      ]
     },
     "execution_count": 23,
     "metadata": {},
     "output_type": "execute_result"
    }
   ],
   "source": [
    "cross_validate(KNNBasic(k=5), \n",
    "               surprise_movie_ratings, \n",
    "               measures=['RMSE', 'MAE'], \n",
    "               cv=5, \n",
    "               verbose=True)\n"
   ]
  },
  {
   "cell_type": "code",
   "execution_count": 24,
   "metadata": {},
   "outputs": [
    {
     "name": "stdout",
     "output_type": "stream",
     "text": [
      "Computing the msd similarity matrix...\n",
      "Done computing similarity matrix.\n",
      "Computing the msd similarity matrix...\n",
      "Done computing similarity matrix.\n",
      "Computing the msd similarity matrix...\n",
      "Done computing similarity matrix.\n",
      "Computing the msd similarity matrix...\n",
      "Done computing similarity matrix.\n",
      "Computing the msd similarity matrix...\n",
      "Done computing similarity matrix.\n",
      "Evaluating RMSE, MAE of algorithm KNNWithMeans on 5 split(s).\n",
      "\n",
      "                  Fold 1  Fold 2  Fold 3  Fold 4  Fold 5  Mean    Std     \n",
      "RMSE (testset)    0.9339  0.9180  0.9317  0.9264  0.9360  0.9292  0.0064  \n",
      "MAE (testset)     0.7174  0.7088  0.7162  0.7111  0.7200  0.7147  0.0041  \n",
      "Fit time          0.23    0.30    0.23    0.22    0.21    0.24    0.03    \n",
      "Test time         2.85    2.27    2.34    2.44    2.26    2.43    0.22    \n"
     ]
    },
    {
     "data": {
      "text/plain": [
       "{'test_rmse': array([0.9338685 , 0.91802202, 0.93174491, 0.9264032 , 0.93599248]),\n",
       " 'test_mae': array([0.71736192, 0.70875317, 0.71621146, 0.71114665, 0.71996945]),\n",
       " 'fit_time': (0.22688841819763184,\n",
       "  0.2972452640533447,\n",
       "  0.2333359718322754,\n",
       "  0.2213442325592041,\n",
       "  0.21461009979248047),\n",
       " 'test_time': (2.8454015254974365,\n",
       "  2.267185688018799,\n",
       "  2.3389337062835693,\n",
       "  2.437272548675537,\n",
       "  2.2563982009887695)}"
      ]
     },
     "execution_count": 24,
     "metadata": {},
     "output_type": "execute_result"
    }
   ],
   "source": [
    "cross_validate(KNNWithMeans(k=5), \n",
    "               surprise_movie_ratings, \n",
    "               measures=['RMSE', 'MAE'], \n",
    "               cv=5, \n",
    "               verbose=True)"
   ]
  },
  {
   "cell_type": "markdown",
   "metadata": {},
   "source": [
    "# Comparing to Baseline Model"
   ]
  },
  {
   "cell_type": "code",
   "execution_count": 25,
   "metadata": {},
   "outputs": [
    {
     "ename": "SyntaxError",
     "evalue": "invalid syntax (<ipython-input-25-e4aed93defeb>, line 1)",
     "output_type": "error",
     "traceback": [
      "\u001b[0;36m  File \u001b[0;32m\"<ipython-input-25-e4aed93defeb>\"\u001b[0;36m, line \u001b[0;32m1\u001b[0m\n\u001b[0;31m    from src/baselines import\u001b[0m\n\u001b[0m            ^\u001b[0m\n\u001b[0;31mSyntaxError\u001b[0m\u001b[0;31m:\u001b[0m invalid syntax\n"
     ]
    }
   ],
   "source": [
    "from src/baselines import \n",
    "\n",
    "\n",
    "mov_pDF.head()"
   ]
  }
 ],
 "metadata": {
  "kernelspec": {
   "display_name": "Python 3",
   "language": "python",
   "name": "python3"
  },
  "language_info": {
   "codemirror_mode": {
    "name": "ipython",
    "version": 3
   },
   "file_extension": ".py",
   "mimetype": "text/x-python",
   "name": "python",
   "nbconvert_exporter": "python",
   "pygments_lexer": "ipython3",
   "version": "3.8.6"
  }
 },
 "nbformat": 4,
 "nbformat_minor": 4
}
