{
 "cells": [
  {
   "cell_type": "markdown",
   "metadata": {},
   "source": [
    "# EDA"
   ]
  },
  {
   "cell_type": "code",
   "execution_count": 1,
   "metadata": {},
   "outputs": [],
   "source": [
    "import numpy as np\n",
    "import pandas as pd\n",
    "\n",
    "import pyspark as ps"
   ]
  },
  {
   "cell_type": "code",
   "execution_count": 2,
   "metadata": {},
   "outputs": [],
   "source": [
    "spark = (ps.sql.SparkSession.builder \n",
    "        .master(\"local[4]\") \n",
    "        .appName(\"mov_rec\") \n",
    "        .getOrCreate()\n",
    "        )\n",
    "sc = spark.sparkContext"
   ]
  },
  {
   "cell_type": "code",
   "execution_count": 3,
   "metadata": {},
   "outputs": [],
   "source": [
    "rat_rdd = spark.read.format('com.databricks.spark.csv').\\\n",
    "                            options(header='true',\\\n",
    "                            inferschema='true').\\\n",
    "                            load('data/ml-latest-small/ratings.csv', header=True)\n",
    "        "
   ]
  },
  {
   "cell_type": "code",
   "execution_count": 4,
   "metadata": {},
   "outputs": [
    {
     "name": "stdout",
     "output_type": "stream",
     "text": [
      "+------+-------+------+---------+\n",
      "|userId|movieId|rating|timestamp|\n",
      "+------+-------+------+---------+\n",
      "|     1|      1|   4.0|964982703|\n",
      "|     1|      3|   4.0|964981247|\n",
      "|     1|      6|   4.0|964982224|\n",
      "|     1|     47|   5.0|964983815|\n",
      "|     1|     50|   5.0|964982931|\n",
      "+------+-------+------+---------+\n",
      "only showing top 5 rows\n",
      "\n"
     ]
    }
   ],
   "source": [
    "rat_rdd.show(5)"
   ]
  },
  {
   "cell_type": "code",
   "execution_count": 51,
   "metadata": {},
   "outputs": [
    {
     "data": {
      "text/plain": [
       "[Row(userId=610, movieId=166534, rating=4.0, timestamp=1493848402),\n",
       " Row(userId=610, movieId=168248, rating=5.0, timestamp=1493850091),\n",
       " Row(userId=610, movieId=168250, rating=5.0, timestamp=1494273047),\n",
       " Row(userId=610, movieId=168252, rating=5.0, timestamp=1493846352),\n",
       " Row(userId=610, movieId=170875, rating=3.0, timestamp=1493846415)]"
      ]
     },
     "execution_count": 51,
     "metadata": {},
     "output_type": "execute_result"
    }
   ],
   "source": [
    "rat_rdd.tail(5)"
   ]
  },
  {
   "cell_type": "code",
   "execution_count": 5,
   "metadata": {},
   "outputs": [
    {
     "name": "stdout",
     "output_type": "stream",
     "text": [
      "root\n",
      " |-- userId: integer (nullable = true)\n",
      " |-- movieId: integer (nullable = true)\n",
      " |-- rating: double (nullable = true)\n",
      " |-- timestamp: integer (nullable = true)\n",
      "\n"
     ]
    }
   ],
   "source": [
    "rat_rdd.printSchema()"
   ]
  },
  {
   "cell_type": "code",
   "execution_count": 6,
   "metadata": {},
   "outputs": [],
   "source": [
    "mov_rdd = spark.read.format('com.databricks.spark.csv').\\\n",
    "                            options(header='true',\\\n",
    "                            inferschema='true').\\\n",
    "                            load('data/ml-latest-small/movies.csv', header=True)\n",
    "        "
   ]
  },
  {
   "cell_type": "code",
   "execution_count": 7,
   "metadata": {},
   "outputs": [],
   "source": [
    "# tags_rdd = spark.read.format('com.databricks.spark.csv').\\\n",
    "#                              options(header='true',\\\n",
    "#                              inferschema='true').\\\n",
    "#                              load('data/ml-latest-small/tags.csv', header=True)\n",
    "        "
   ]
  },
  {
   "cell_type": "code",
   "execution_count": 8,
   "metadata": {},
   "outputs": [
    {
     "name": "stdout",
     "output_type": "stream",
     "text": [
      "+-------+--------------------+--------------------+\n",
      "|movieId|               title|              genres|\n",
      "+-------+--------------------+--------------------+\n",
      "|      1|    Toy Story (1995)|Adventure|Animati...|\n",
      "|      2|      Jumanji (1995)|Adventure|Childre...|\n",
      "|      3|Grumpier Old Men ...|      Comedy|Romance|\n",
      "|      4|Waiting to Exhale...|Comedy|Drama|Romance|\n",
      "|      5|Father of the Bri...|              Comedy|\n",
      "+-------+--------------------+--------------------+\n",
      "only showing top 5 rows\n",
      "\n"
     ]
    }
   ],
   "source": [
    "mov_rdd.show(5)"
   ]
  },
  {
   "cell_type": "code",
   "execution_count": 9,
   "metadata": {},
   "outputs": [
    {
     "name": "stdout",
     "output_type": "stream",
     "text": [
      "+------+-------+------+---------+\n",
      "|userId|movieId|rating|timestamp|\n",
      "+------+-------+------+---------+\n",
      "|     1|      1|   4.0|964982703|\n",
      "|     1|      3|   4.0|964981247|\n",
      "|     1|      6|   4.0|964982224|\n",
      "|     1|     47|   5.0|964983815|\n",
      "|     1|     50|   5.0|964982931|\n",
      "+------+-------+------+---------+\n",
      "only showing top 5 rows\n",
      "\n"
     ]
    }
   ],
   "source": [
    "rat_rdd.show(5)"
   ]
  },
  {
   "cell_type": "code",
   "execution_count": 10,
   "metadata": {},
   "outputs": [],
   "source": [
    "mov_rdd.createOrReplaceTempView(\"mov_rdd\")\n",
    "rat_rdd.createOrReplaceTempView(\"rat_rdd\")"
   ]
  },
  {
   "cell_type": "code",
   "execution_count": 11,
   "metadata": {},
   "outputs": [],
   "source": [
    "# tags_rdd.show(5)"
   ]
  },
  {
   "cell_type": "markdown",
   "metadata": {},
   "source": [
    "Leave out timestamp..."
   ]
  },
  {
   "cell_type": "code",
   "execution_count": 23,
   "metadata": {},
   "outputs": [],
   "source": [
    "mov_surprise = spark.sql(\n",
    "'''\n",
    "SELECT ratings.userId, movies.title, ratings.rating \n",
    "  FROM mov_rdd AS movies\n",
    "  JOIN rat_rdd AS ratings\n",
    "    ON movies.movieId = ratings.movieId\n",
    "'''\n",
    ")"
   ]
  },
  {
   "cell_type": "code",
   "execution_count": 24,
   "metadata": {},
   "outputs": [],
   "source": [
    "mov_surprise.createOrReplaceTempView(\"mov_surprise\")"
   ]
  },
  {
   "cell_type": "code",
   "execution_count": 25,
   "metadata": {},
   "outputs": [
    {
     "name": "stdout",
     "output_type": "stream",
     "text": [
      "+------+--------------------+------+\n",
      "|userId|               title|rating|\n",
      "+------+--------------------+------+\n",
      "|     1|    Toy Story (1995)|   4.0|\n",
      "|     1|Grumpier Old Men ...|   4.0|\n",
      "|     1|         Heat (1995)|   4.0|\n",
      "|     1|Seven (a.k.a. Se7...|   5.0|\n",
      "|     1|Usual Suspects, T...|   5.0|\n",
      "+------+--------------------+------+\n",
      "only showing top 5 rows\n",
      "\n"
     ]
    }
   ],
   "source": [
    "mov_surprise.show(5)"
   ]
  },
  {
   "cell_type": "markdown",
   "metadata": {},
   "source": [
    "# Surprise"
   ]
  },
  {
   "cell_type": "markdown",
   "metadata": {},
   "source": [
    "Begin by reimplementing the similarity based recommender from lecture"
   ]
  },
  {
   "cell_type": "code",
   "execution_count": 18,
   "metadata": {},
   "outputs": [
    {
     "name": "stdout",
     "output_type": "stream",
     "text": [
      "Collecting surprise\n",
      "  Downloading surprise-0.1-py2.py3-none-any.whl (1.8 kB)\n",
      "Collecting scikit-surprise\n",
      "  Downloading scikit-surprise-1.1.1.tar.gz (11.8 MB)\n",
      "\u001b[K     |████████████████████████████████| 11.8 MB 18.0 MB/s eta 0:00:01   |████████                        | 3.0 MB 2.2 MB/s eta 0:00:05\n",
      "\u001b[?25hRequirement already satisfied: joblib>=0.11 in /opt/conda/lib/python3.8/site-packages (from scikit-surprise->surprise) (0.17.0)\n",
      "Requirement already satisfied: numpy>=1.11.2 in /opt/conda/lib/python3.8/site-packages (from scikit-surprise->surprise) (1.19.4)\n",
      "Requirement already satisfied: scipy>=1.0.0 in /opt/conda/lib/python3.8/site-packages (from scikit-surprise->surprise) (1.5.3)\n",
      "Requirement already satisfied: six>=1.10.0 in /opt/conda/lib/python3.8/site-packages (from scikit-surprise->surprise) (1.15.0)\n",
      "Requirement already satisfied: numpy>=1.11.2 in /opt/conda/lib/python3.8/site-packages (from scikit-surprise->surprise) (1.19.4)\n",
      "Building wheels for collected packages: scikit-surprise\n",
      "  Building wheel for scikit-surprise (setup.py) ... \u001b[?25ldone\n",
      "\u001b[?25h  Created wheel for scikit-surprise: filename=scikit_surprise-1.1.1-cp38-cp38-linux_x86_64.whl size=2325425 sha256=459c5b53fbd9527e2f79f3e5a57881a5d6c975f92ffe23adb57432ecdf7c3cc6\n",
      "  Stored in directory: /home/jovyan/.cache/pip/wheels/20/91/57/2965d4cff1b8ac7ed1b6fa25741882af3974b54a31759e10b6\n",
      "Successfully built scikit-surprise\n",
      "Installing collected packages: scikit-surprise, surprise\n",
      "Successfully installed scikit-surprise-1.1.1 surprise-0.1\n",
      "Note: you may need to restart the kernel to use updated packages.\n"
     ]
    }
   ],
   "source": [
    "pip install surprise"
   ]
  },
  {
   "cell_type": "code",
   "execution_count": 26,
   "metadata": {},
   "outputs": [],
   "source": []
  },
  {
   "cell_type": "code",
   "execution_count": 42,
   "metadata": {},
   "outputs": [],
   "source": [
    "from surprise import KNNBasic, KNNWithMeans, SVD\n",
    "\n",
    "from surprise import Dataset\n",
    "from surprise import Reader\n",
    "\n",
    "from surprise.model_selection import cross_validate\n",
    "\n",
    "mov_surprise = mov_surprise[mov_surprise['rating']!=0]\n",
    "\n",
    "reader = Reader(rating_scale=(1,5))"
   ]
  },
  {
   "cell_type": "code",
   "execution_count": 43,
   "metadata": {},
   "outputs": [
    {
     "data": {
      "text/plain": [
       "[Row(userId=1, title='Toy Story (1995)', rating=4.0),\n",
       " Row(userId=1, title='Grumpier Old Men (1995)', rating=4.0),\n",
       " Row(userId=1, title='Heat (1995)', rating=4.0),\n",
       " Row(userId=1, title='Seven (a.k.a. Se7en) (1995)', rating=5.0),\n",
       " Row(userId=1, title='Usual Suspects, The (1995)', rating=5.0)]"
      ]
     },
     "execution_count": 43,
     "metadata": {},
     "output_type": "execute_result"
    }
   ],
   "source": [
    "mov_surprise.head(5)"
   ]
  },
  {
   "cell_type": "code",
   "execution_count": 44,
   "metadata": {},
   "outputs": [
    {
     "name": "stdout",
     "output_type": "stream",
     "text": [
      "   userId                        title  rating\n",
      "0       1             Toy Story (1995)     4.0\n",
      "1       1      Grumpier Old Men (1995)     4.0\n",
      "2       1                  Heat (1995)     4.0\n",
      "3       1  Seven (a.k.a. Se7en) (1995)     5.0\n",
      "4       1   Usual Suspects, The (1995)     5.0\n"
     ]
    }
   ],
   "source": [
    "# convert to pandas DataFrame\n",
    "# warning, if file is too large, this will likely crash...\n",
    "mov_pDF = mov_surprise.toPandas()\n",
    "print(mov_pDF.head(5))\n",
    "\n",
    "surprise_movie_ratings = Dataset.load_from_df(mov_pDF, reader)"
   ]
  },
  {
   "cell_type": "code",
   "execution_count": 45,
   "metadata": {},
   "outputs": [
    {
     "name": "stdout",
     "output_type": "stream",
     "text": [
      "Computing the msd similarity matrix...\n",
      "Done computing similarity matrix.\n"
     ]
    },
    {
     "data": {
      "text/plain": [
       "[Prediction(uid=1, iid='Shawshank Redemption, The (1994)', r_ui=3.501556983616962, est=4.7933170341863915, details={'actual_k': 40, 'was_impossible': False}),\n",
       " Prediction(uid=1, iid='Good Will Hunting (1997)', r_ui=3.501556983616962, est=4.406962278623285, details={'actual_k': 40, 'was_impossible': False}),\n",
       " Prediction(uid=1, iid='Kill Bill: Vol. 1 (2003)', r_ui=3.501556983616962, est=4.232475482922819, details={'actual_k': 40, 'was_impossible': False}),\n",
       " Prediction(uid=1, iid='Collateral (2004)', r_ui=3.501556983616962, est=3.86890093822762, details={'actual_k': 40, 'was_impossible': False}),\n",
       " Prediction(uid=1, iid='Talladega Nights: The Ballad of Ricky Bobby (2006)', r_ui=3.501556983616962, est=3.3081937462915807, details={'actual_k': 28, 'was_impossible': False})]"
      ]
     },
     "execution_count": 45,
     "metadata": {},
     "output_type": "execute_result"
    }
   ],
   "source": [
    "# treat data as training set\n",
    "training_movie_data = surprise_movie_ratings.build_full_trainset()\n",
    "\n",
    "# anything not a user-item rating pair as test\n",
    "# no data for this, so we can't do an eval on out of sample accuracy\n",
    "testing_movie_data = training_movie_data.build_anti_testset()\n",
    "\n",
    "# create instance of recommender algorithm object\n",
    "algo = KNNBasic()\n",
    "\n",
    "# fit it on the training data\n",
    "algo.fit(training_movie_data)\n",
    "\n",
    "# predict on the test data\n",
    "predictions = algo.test(testing_movie_data)\n",
    "\n",
    "# print the first 5 predictions\n",
    "predictions[:5]"
   ]
  },
  {
   "cell_type": "code",
   "execution_count": 19,
   "metadata": {},
   "outputs": [
    {
     "data": {
      "text/plain": [
       "pyspark.sql.dataframe.DataFrame"
      ]
     },
     "execution_count": 19,
     "metadata": {},
     "output_type": "execute_result"
    }
   ],
   "source": [
    "type(mov_surprise)"
   ]
  },
  {
   "cell_type": "code",
   "execution_count": 46,
   "metadata": {},
   "outputs": [
    {
     "name": "stdout",
     "output_type": "stream",
     "text": [
      "Evaluating RMSE, MAE of algorithm SVD on 5 split(s).\n",
      "\n",
      "                  Fold 1  Fold 2  Fold 3  Fold 4  Fold 5  Mean    Std     \n",
      "RMSE (testset)    0.8716  0.8661  0.8637  0.8699  0.8750  0.8693  0.0040  \n",
      "MAE (testset)     0.6690  0.6684  0.6635  0.6687  0.6714  0.6682  0.0026  \n",
      "Fit time          4.03    3.91    3.49    3.30    3.30    3.61    0.31    \n",
      "Test time         0.45    0.39    0.39    0.32    0.38    0.39    0.04    \n"
     ]
    },
    {
     "data": {
      "text/plain": [
       "{'test_rmse': array([0.87164105, 0.86614005, 0.86367178, 0.86992878, 0.87500647]),\n",
       " 'test_mae': array([0.6689906 , 0.66837099, 0.66353079, 0.66872449, 0.6713929 ]),\n",
       " 'fit_time': (4.034169435501099,\n",
       "  3.9060375690460205,\n",
       "  3.4865376949310303,\n",
       "  3.3026998043060303,\n",
       "  3.299785852432251),\n",
       " 'test_time': (0.45351123809814453,\n",
       "  0.3940465450286865,\n",
       "  0.3924839496612549,\n",
       "  0.3172287940979004,\n",
       "  0.3789184093475342)}"
      ]
     },
     "execution_count": 46,
     "metadata": {},
     "output_type": "execute_result"
    }
   ],
   "source": [
    "# standard format for cross validation\n",
    "# algorithm used, ratings dataset, metrics, number of cross validations, verbose controls how much output\n",
    "cross_validate(SVD(n_factors=5, reg_all=0.005), \n",
    "               surprise_movie_ratings, \n",
    "               measures=['RMSE', 'MAE'], \n",
    "               cv=5, \n",
    "               verbose=True)"
   ]
  },
  {
   "cell_type": "code",
   "execution_count": 47,
   "metadata": {},
   "outputs": [
    {
     "name": "stdout",
     "output_type": "stream",
     "text": [
      "Computing the msd similarity matrix...\n",
      "Done computing similarity matrix.\n",
      "Computing the msd similarity matrix...\n",
      "Done computing similarity matrix.\n",
      "Computing the msd similarity matrix...\n",
      "Done computing similarity matrix.\n",
      "Computing the msd similarity matrix...\n",
      "Done computing similarity matrix.\n",
      "Computing the msd similarity matrix...\n",
      "Done computing similarity matrix.\n",
      "Evaluating RMSE, MAE of algorithm KNNBasic on 5 split(s).\n",
      "\n",
      "                  Fold 1  Fold 2  Fold 3  Fold 4  Fold 5  Mean    Std     \n",
      "RMSE (testset)    0.9617  0.9497  0.9607  0.9503  0.9603  0.9565  0.0054  \n",
      "MAE (testset)     0.7297  0.7255  0.7328  0.7240  0.7313  0.7287  0.0034  \n",
      "Fit time          0.15    0.26    0.19    0.26    0.20    0.21    0.04    \n",
      "Test time         2.75    2.89    2.71    2.71    2.84    2.78    0.07    \n"
     ]
    },
    {
     "data": {
      "text/plain": [
       "{'test_rmse': array([0.96169401, 0.94967837, 0.96065888, 0.9502791 , 0.9602762 ]),\n",
       " 'test_mae': array([0.72974103, 0.72547832, 0.73277338, 0.72398267, 0.73134909]),\n",
       " 'fit_time': (0.1521005630493164,\n",
       "  0.2565803527832031,\n",
       "  0.19399213790893555,\n",
       "  0.26407527923583984,\n",
       "  0.20015239715576172),\n",
       " 'test_time': (2.7461354732513428,\n",
       "  2.8907337188720703,\n",
       "  2.714517831802368,\n",
       "  2.7065658569335938,\n",
       "  2.839329242706299)}"
      ]
     },
     "execution_count": 47,
     "metadata": {},
     "output_type": "execute_result"
    }
   ],
   "source": [
    "cross_validate(KNNBasic(k=5), \n",
    "               surprise_movie_ratings, \n",
    "               measures=['RMSE', 'MAE'], \n",
    "               cv=5, \n",
    "               verbose=True)\n"
   ]
  },
  {
   "cell_type": "code",
   "execution_count": null,
   "metadata": {},
   "outputs": [],
   "source": [
    "cross_validate(KNNWithMeans(k=5), \n",
    "               surprise_movie_ratings, \n",
    "               measures=['RMSE', 'MAE'], \n",
    "               cv=5, \n",
    "               verbose=True)"
   ]
  }
 ],
 "metadata": {
  "kernelspec": {
   "display_name": "Python 3",
   "language": "python",
   "name": "python3"
  },
  "language_info": {
   "codemirror_mode": {
    "name": "ipython",
    "version": 3
   },
   "file_extension": ".py",
   "mimetype": "text/x-python",
   "name": "python",
   "nbconvert_exporter": "python",
   "pygments_lexer": "ipython3",
   "version": "3.8.6"
  }
 },
 "nbformat": 4,
 "nbformat_minor": 4
}
