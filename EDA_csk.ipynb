{
 "cells": [
  {
   "cell_type": "markdown",
   "metadata": {},
   "source": [
    "# EDA"
   ]
  },
  {
   "cell_type": "code",
   "execution_count": 1,
   "metadata": {},
   "outputs": [],
   "source": [
    "import numpy as np\n",
    "import pandas as pd\n",
    "\n",
    "import pyspark as ps"
   ]
  },
  {
   "cell_type": "code",
   "execution_count": 2,
   "metadata": {},
   "outputs": [],
   "source": [
    "spark = (ps.sql.SparkSession.builder \n",
    "        .master(\"local[4]\") \n",
    "        .appName(\"mov_rec\") \n",
    "        .getOrCreate()\n",
    "        )\n",
    "sc = spark.sparkContext"
   ]
  },
  {
   "cell_type": "code",
   "execution_count": 3,
   "metadata": {},
   "outputs": [],
   "source": [
    "rat_rdd = spark.read.format('com.databricks.spark.csv').\\\n",
    "                            options(header='true',\\\n",
    "                            inferschema='true').\\\n",
    "                            load('data/ml-latest-small/ratings.csv', header=True)\n",
    "        "
   ]
  },
  {
   "cell_type": "code",
   "execution_count": 4,
   "metadata": {},
   "outputs": [
    {
     "name": "stdout",
     "output_type": "stream",
     "text": [
      "+------+-------+------+---------+\n",
      "|userId|movieId|rating|timestamp|\n",
      "+------+-------+------+---------+\n",
      "|     1|      1|   4.0|964982703|\n",
      "|     1|      3|   4.0|964981247|\n",
      "|     1|      6|   4.0|964982224|\n",
      "|     1|     47|   5.0|964983815|\n",
      "|     1|     50|   5.0|964982931|\n",
      "+------+-------+------+---------+\n",
      "only showing top 5 rows\n",
      "\n"
     ]
    }
   ],
   "source": [
    "rat_rdd.show(5)"
   ]
  },
  {
   "cell_type": "code",
   "execution_count": 5,
   "metadata": {},
   "outputs": [
    {
     "data": {
      "text/plain": [
       "[Row(userId=610, movieId=166534, rating=4.0, timestamp=1493848402),\n",
       " Row(userId=610, movieId=168248, rating=5.0, timestamp=1493850091),\n",
       " Row(userId=610, movieId=168250, rating=5.0, timestamp=1494273047),\n",
       " Row(userId=610, movieId=168252, rating=5.0, timestamp=1493846352),\n",
       " Row(userId=610, movieId=170875, rating=3.0, timestamp=1493846415)]"
      ]
     },
     "execution_count": 5,
     "metadata": {},
     "output_type": "execute_result"
    }
   ],
   "source": [
    "rat_rdd.tail(5)"
   ]
  },
  {
   "cell_type": "code",
   "execution_count": 6,
   "metadata": {},
   "outputs": [
    {
     "name": "stdout",
     "output_type": "stream",
     "text": [
      "root\n",
      " |-- userId: integer (nullable = true)\n",
      " |-- movieId: integer (nullable = true)\n",
      " |-- rating: double (nullable = true)\n",
      " |-- timestamp: integer (nullable = true)\n",
      "\n"
     ]
    }
   ],
   "source": [
    "rat_rdd.printSchema()"
   ]
  },
  {
   "cell_type": "code",
   "execution_count": 7,
   "metadata": {},
   "outputs": [],
   "source": [
    "mov_rdd = spark.read.format('com.databricks.spark.csv').\\\n",
    "                            options(header='true',\\\n",
    "                            inferschema='true').\\\n",
    "                            load('data/ml-latest-small/movies.csv', header=True)\n",
    "        "
   ]
  },
  {
   "cell_type": "code",
   "execution_count": 8,
   "metadata": {},
   "outputs": [],
   "source": [
    "# tags_rdd = spark.read.format('com.databricks.spark.csv').\\\n",
    "#                              options(header='true',\\\n",
    "#                              inferschema='true').\\\n",
    "#                              load('data/ml-latest-small/tags.csv', header=True)\n",
    "        "
   ]
  },
  {
   "cell_type": "code",
   "execution_count": 9,
   "metadata": {},
   "outputs": [
    {
     "name": "stdout",
     "output_type": "stream",
     "text": [
      "+-------+--------------------+--------------------+\n",
      "|movieId|               title|              genres|\n",
      "+-------+--------------------+--------------------+\n",
      "|      1|    Toy Story (1995)|Adventure|Animati...|\n",
      "|      2|      Jumanji (1995)|Adventure|Childre...|\n",
      "|      3|Grumpier Old Men ...|      Comedy|Romance|\n",
      "|      4|Waiting to Exhale...|Comedy|Drama|Romance|\n",
      "|      5|Father of the Bri...|              Comedy|\n",
      "+-------+--------------------+--------------------+\n",
      "only showing top 5 rows\n",
      "\n"
     ]
    }
   ],
   "source": [
    "mov_rdd.show(5)"
   ]
  },
  {
   "cell_type": "code",
   "execution_count": 10,
   "metadata": {},
   "outputs": [
    {
     "name": "stdout",
     "output_type": "stream",
     "text": [
      "+------+-------+------+---------+\n",
      "|userId|movieId|rating|timestamp|\n",
      "+------+-------+------+---------+\n",
      "|     1|      1|   4.0|964982703|\n",
      "|     1|      3|   4.0|964981247|\n",
      "|     1|      6|   4.0|964982224|\n",
      "|     1|     47|   5.0|964983815|\n",
      "|     1|     50|   5.0|964982931|\n",
      "+------+-------+------+---------+\n",
      "only showing top 5 rows\n",
      "\n"
     ]
    }
   ],
   "source": [
    "rat_rdd.show(5)"
   ]
  },
  {
   "cell_type": "code",
   "execution_count": 11,
   "metadata": {},
   "outputs": [],
   "source": [
    "mov_rdd.createOrReplaceTempView(\"mov_rdd\")\n",
    "rat_rdd.createOrReplaceTempView(\"rat_rdd\")"
   ]
  },
  {
   "cell_type": "code",
   "execution_count": 12,
   "metadata": {},
   "outputs": [],
   "source": [
    "# tags_rdd.show(5)"
   ]
  },
  {
   "cell_type": "markdown",
   "metadata": {},
   "source": [
    "Leave out timestamp..."
   ]
  },
  {
   "cell_type": "code",
   "execution_count": 13,
   "metadata": {},
   "outputs": [],
   "source": [
    "mov_surprise = spark.sql(\n",
    "'''\n",
    "SELECT ratings.userId, movies.title, ratings.rating \n",
    "  FROM mov_rdd AS movies\n",
    "  JOIN rat_rdd AS ratings\n",
    "    ON movies.movieId = ratings.movieId\n",
    "'''\n",
    ")"
   ]
  },
  {
   "cell_type": "code",
   "execution_count": 14,
   "metadata": {},
   "outputs": [],
   "source": [
    "mov_surprise.createOrReplaceTempView(\"mov_surprise\")"
   ]
  },
  {
   "cell_type": "code",
   "execution_count": 15,
   "metadata": {},
   "outputs": [
    {
     "name": "stdout",
     "output_type": "stream",
     "text": [
      "+------+--------------------+------+\n",
      "|userId|               title|rating|\n",
      "+------+--------------------+------+\n",
      "|     1|    Toy Story (1995)|   4.0|\n",
      "|     1|Grumpier Old Men ...|   4.0|\n",
      "|     1|         Heat (1995)|   4.0|\n",
      "|     1|Seven (a.k.a. Se7...|   5.0|\n",
      "|     1|Usual Suspects, T...|   5.0|\n",
      "+------+--------------------+------+\n",
      "only showing top 5 rows\n",
      "\n"
     ]
    }
   ],
   "source": [
    "mov_surprise.show(5)"
   ]
  },
  {
   "cell_type": "markdown",
   "metadata": {},
   "source": [
    "# Similarity Based Recommender using Surprise"
   ]
  },
  {
   "cell_type": "markdown",
   "metadata": {},
   "source": [
    "Begin by reimplementing the similarity based recommender."
   ]
  },
  {
   "cell_type": "code",
   "execution_count": 16,
   "metadata": {},
   "outputs": [],
   "source": [
    "# # install surprise if not already available\n",
    "# pip install surprise"
   ]
  },
  {
   "cell_type": "code",
   "execution_count": 17,
   "metadata": {},
   "outputs": [],
   "source": [
    "from surprise import KNNBasic, KNNWithMeans, SVD\n",
    "\n",
    "from surprise import Dataset\n",
    "from surprise import Reader\n",
    "\n",
    "from surprise.model_selection import cross_validate\n",
    "\n",
    "# mov_surprise doesn't contain any zero values\n",
    "mov_surprise = mov_surprise[mov_surprise['rating']!=0]\n",
    "\n",
    "# ratings in dataset are from 0.5 to 5\n",
    "reader = Reader(rating_scale=(0.5, 5))"
   ]
  },
  {
   "cell_type": "code",
   "execution_count": 18,
   "metadata": {},
   "outputs": [
    {
     "data": {
      "text/plain": [
       "[Row(userId=1, title='Toy Story (1995)', rating=4.0),\n",
       " Row(userId=1, title='Grumpier Old Men (1995)', rating=4.0),\n",
       " Row(userId=1, title='Heat (1995)', rating=4.0),\n",
       " Row(userId=1, title='Seven (a.k.a. Se7en) (1995)', rating=5.0),\n",
       " Row(userId=1, title='Usual Suspects, The (1995)', rating=5.0)]"
      ]
     },
     "execution_count": 18,
     "metadata": {},
     "output_type": "execute_result"
    }
   ],
   "source": [
    "mov_surprise.head(5)"
   ]
  },
  {
   "cell_type": "code",
   "execution_count": 19,
   "metadata": {},
   "outputs": [
    {
     "name": "stdout",
     "output_type": "stream",
     "text": [
      "   userId                        title  rating\n",
      "0       1             Toy Story (1995)     4.0\n",
      "1       1      Grumpier Old Men (1995)     4.0\n",
      "2       1                  Heat (1995)     4.0\n",
      "3       1  Seven (a.k.a. Se7en) (1995)     5.0\n",
      "4       1   Usual Suspects, The (1995)     5.0\n"
     ]
    }
   ],
   "source": [
    "# convert to pandas DataFrame\n",
    "# warning, if file is too large, this will likely crash...\n",
    "mov_pDF = mov_surprise.toPandas()\n",
    "print(mov_pDF.head(5))\n",
    "\n",
    "surprise_movie_ratings = Dataset.load_from_df(mov_pDF, reader)"
   ]
  },
  {
   "cell_type": "code",
   "execution_count": 20,
   "metadata": {},
   "outputs": [
    {
     "name": "stdout",
     "output_type": "stream",
     "text": [
      "        userId                           title  rating\n",
      "100831     610                    Split (2017)     4.0\n",
      "100832     610   John Wick: Chapter Two (2017)     5.0\n",
      "100833     610                  Get Out (2017)     5.0\n",
      "100834     610                    Logan (2017)     5.0\n",
      "100835     610  The Fate of the Furious (2017)     3.0\n"
     ]
    }
   ],
   "source": [
    "print(mov_pDF.tail(5))"
   ]
  },
  {
   "cell_type": "code",
   "execution_count": 21,
   "metadata": {},
   "outputs": [],
   "source": [
    "# treat data as training set\n",
    "training_movie_data = surprise_movie_ratings.build_full_trainset()\n",
    "\n",
    "# anything not a user-item rating pair as test\n",
    "# no data for this, so we can't do an eval on out of sample accuracy\n",
    "testing_movie_data = training_movie_data.build_anti_testset()\n",
    "\n",
    "# create instance of recommender algorithm object\n",
    "# algo = KNNBasic()\n",
    "algo = SVD()\n",
    "\n",
    "# fit it on the training data\n",
    "algo.fit(training_movie_data)\n",
    "\n",
    "# predict on the test data\n",
    "predictions = algo.test(testing_movie_data)"
   ]
  },
  {
   "cell_type": "code",
   "execution_count": 22,
   "metadata": {},
   "outputs": [
    {
     "data": {
      "text/plain": [
       "[Prediction(uid=1, iid='Shawshank Redemption, The (1994)', r_ui=3.501556983616962, est=5, details={'was_impossible': False}),\n",
       " Prediction(uid=1, iid='Good Will Hunting (1997)', r_ui=3.501556983616962, est=4.688459738687767, details={'was_impossible': False}),\n",
       " Prediction(uid=1, iid='Kill Bill: Vol. 1 (2003)', r_ui=3.501556983616962, est=4.404235906425706, details={'was_impossible': False}),\n",
       " Prediction(uid=1, iid='Collateral (2004)', r_ui=3.501556983616962, est=4.652124535310926, details={'was_impossible': False}),\n",
       " Prediction(uid=1, iid='Talladega Nights: The Ballad of Ricky Bobby (2006)', r_ui=3.501556983616962, est=4.370114940807871, details={'was_impossible': False})]"
      ]
     },
     "execution_count": 22,
     "metadata": {},
     "output_type": "execute_result"
    }
   ],
   "source": [
    "# print the first 5 predictions\n",
    "predictions[:5]"
   ]
  },
  {
   "cell_type": "code",
   "execution_count": 23,
   "metadata": {},
   "outputs": [
    {
     "data": {
      "text/plain": [
       "[Prediction(uid=610, iid='United States of Leland, The (2003)', r_ui=3.501556983616962, est=3.28440869662284, details={'was_impossible': False}),\n",
       " Prediction(uid=610, iid='A Home at the End of the World (2004)', r_ui=3.501556983616962, est=3.5118184235752534, details={'was_impossible': False}),\n",
       " Prediction(uid=610, iid='League of Ordinary Gentlemen, A (2004)', r_ui=3.501556983616962, est=3.805430194396398, details={'was_impossible': False}),\n",
       " Prediction(uid=610, iid='I Think I Love My Wife (2007)', r_ui=3.501556983616962, est=3.4960909666547404, details={'was_impossible': False}),\n",
       " Prediction(uid=610, iid='Man of the Year (1995)', r_ui=3.501556983616962, est=3.668213130455168, details={'was_impossible': False})]"
      ]
     },
     "execution_count": 23,
     "metadata": {},
     "output_type": "execute_result"
    }
   ],
   "source": [
    "# print last 5 predictions\n",
    "predictions[-5:]"
   ]
  },
  {
   "cell_type": "markdown",
   "metadata": {},
   "source": [
    "## Cross Validate: SVD"
   ]
  },
  {
   "cell_type": "code",
   "execution_count": 24,
   "metadata": {},
   "outputs": [
    {
     "name": "stdout",
     "output_type": "stream",
     "text": [
      "Evaluating RMSE, MAE of algorithm SVD on 5 split(s).\n",
      "\n",
      "                  Fold 1  Fold 2  Fold 3  Fold 4  Fold 5  Mean    Std     \n",
      "RMSE (testset)    0.8701  0.8752  0.8678  0.8795  0.8599  0.8705  0.0067  \n",
      "MAE (testset)     0.6705  0.6690  0.6664  0.6749  0.6638  0.6689  0.0038  \n",
      "Fit time          2.50    2.25    2.50    2.43    2.25    2.39    0.11    \n",
      "Test time         0.23    0.20    0.19    0.24    0.21    0.21    0.02    \n"
     ]
    },
    {
     "data": {
      "text/plain": [
       "{'test_rmse': array([0.87012303, 0.87520902, 0.86783147, 0.87949249, 0.85986456]),\n",
       " 'test_mae': array([0.67052924, 0.66901518, 0.66639522, 0.67488141, 0.6637542 ]),\n",
       " 'fit_time': (2.5017266273498535,\n",
       "  2.25032377243042,\n",
       "  2.5048208236694336,\n",
       "  2.430849313735962,\n",
       "  2.2534046173095703),\n",
       " 'test_time': (0.2311854362487793,\n",
       "  0.20060992240905762,\n",
       "  0.19200801849365234,\n",
       "  0.2364346981048584,\n",
       "  0.21037912368774414)}"
      ]
     },
     "execution_count": 24,
     "metadata": {},
     "output_type": "execute_result"
    }
   ],
   "source": [
    "# standard format for cross validation\n",
    "# algorithm used, ratings dataset, metrics, number of cross validations, verbose controls how much output\n",
    "cross_validate(SVD(n_factors=5, reg_all=0.005), \n",
    "               surprise_movie_ratings, \n",
    "               measures=['RMSE', 'MAE'], \n",
    "               cv=5, \n",
    "               verbose=True)"
   ]
  },
  {
   "cell_type": "markdown",
   "metadata": {},
   "source": [
    "## Cross Validtate: KNNBasic"
   ]
  },
  {
   "cell_type": "code",
   "execution_count": 25,
   "metadata": {},
   "outputs": [
    {
     "name": "stdout",
     "output_type": "stream",
     "text": [
      "Computing the msd similarity matrix...\n",
      "Done computing similarity matrix.\n",
      "Computing the msd similarity matrix...\n",
      "Done computing similarity matrix.\n",
      "Computing the msd similarity matrix...\n",
      "Done computing similarity matrix.\n",
      "Computing the msd similarity matrix...\n",
      "Done computing similarity matrix.\n",
      "Computing the msd similarity matrix...\n",
      "Done computing similarity matrix.\n",
      "Evaluating RMSE, MAE of algorithm KNNBasic on 5 split(s).\n",
      "\n",
      "                  Fold 1  Fold 2  Fold 3  Fold 4  Fold 5  Mean    Std     \n",
      "RMSE (testset)    0.9559  0.9522  0.9640  0.9631  0.9646  0.9600  0.0050  \n",
      "MAE (testset)     0.7287  0.7282  0.7310  0.7329  0.7363  0.7314  0.0030  \n",
      "Fit time          0.13    0.16    0.17    0.16    0.14    0.15    0.01    \n",
      "Test time         1.63    1.81    2.02    1.72    1.55    1.75    0.16    \n"
     ]
    },
    {
     "data": {
      "text/plain": [
       "{'test_rmse': array([0.95589241, 0.95221375, 0.96400647, 0.9631295 , 0.9645517 ]),\n",
       " 'test_mae': array([0.72866785, 0.72824051, 0.73103137, 0.73288176, 0.73628784]),\n",
       " 'fit_time': (0.13315200805664062,\n",
       "  0.15950512886047363,\n",
       "  0.17215657234191895,\n",
       "  0.16257071495056152,\n",
       "  0.13786745071411133),\n",
       " 'test_time': (1.6321558952331543,\n",
       "  1.8125853538513184,\n",
       "  2.018242120742798,\n",
       "  1.7208430767059326,\n",
       "  1.548384666442871)}"
      ]
     },
     "execution_count": 25,
     "metadata": {},
     "output_type": "execute_result"
    }
   ],
   "source": [
    "cross_validate(KNNBasic(k=5), \n",
    "               surprise_movie_ratings, \n",
    "               measures=['RMSE', 'MAE'], \n",
    "               cv=5, \n",
    "               verbose=True)\n"
   ]
  },
  {
   "cell_type": "markdown",
   "metadata": {},
   "source": [
    "## Cross Validate: KNNWithMeans"
   ]
  },
  {
   "cell_type": "code",
   "execution_count": 26,
   "metadata": {},
   "outputs": [
    {
     "name": "stdout",
     "output_type": "stream",
     "text": [
      "Computing the msd similarity matrix...\n",
      "Done computing similarity matrix.\n",
      "Computing the msd similarity matrix...\n",
      "Done computing similarity matrix.\n",
      "Computing the msd similarity matrix...\n",
      "Done computing similarity matrix.\n",
      "Computing the msd similarity matrix...\n",
      "Done computing similarity matrix.\n",
      "Computing the msd similarity matrix...\n",
      "Done computing similarity matrix.\n",
      "Evaluating RMSE, MAE of algorithm KNNWithMeans on 5 split(s).\n",
      "\n",
      "                  Fold 1  Fold 2  Fold 3  Fold 4  Fold 5  Mean    Std     \n",
      "RMSE (testset)    0.9295  0.9319  0.9270  0.9319  0.9348  0.9310  0.0026  \n",
      "MAE (testset)     0.7153  0.7148  0.7163  0.7155  0.7193  0.7163  0.0016  \n",
      "Fit time          0.15    0.18    0.18    0.18    0.18    0.18    0.01    \n",
      "Test time         1.57    1.58    1.60    1.63    1.88    1.65    0.11    \n"
     ]
    },
    {
     "data": {
      "text/plain": [
       "{'test_rmse': array([0.92945954, 0.93187521, 0.92700969, 0.9319454 , 0.93480844]),\n",
       " 'test_mae': array([0.71529787, 0.71484955, 0.71629092, 0.71553846, 0.71929988]),\n",
       " 'fit_time': (0.1480872631072998,\n",
       "  0.18156862258911133,\n",
       "  0.18122029304504395,\n",
       "  0.1832737922668457,\n",
       "  0.18292021751403809),\n",
       " 'test_time': (1.573613166809082,\n",
       "  1.5776593685150146,\n",
       "  1.6026620864868164,\n",
       "  1.6321141719818115,\n",
       "  1.879030704498291)}"
      ]
     },
     "execution_count": 26,
     "metadata": {},
     "output_type": "execute_result"
    }
   ],
   "source": [
    "cross_validate(KNNWithMeans(k=5), \n",
    "               surprise_movie_ratings, \n",
    "               measures=['RMSE', 'MAE'], \n",
    "               cv=5, \n",
    "               verbose=True)"
   ]
  },
  {
   "cell_type": "markdown",
   "metadata": {},
   "source": [
    "# Comparing to Baseline Model"
   ]
  },
  {
   "cell_type": "code",
   "execution_count": 34,
   "metadata": {},
   "outputs": [],
   "source": [
    "from src import baselines \n",
    "\n",
    "# provide basline model our movie ratings\n",
    "data = surprise_movie_ratings\n",
    "\n",
    "print(\"\\nGlobal Mean...\")\n",
    "algo = baselines.GlobalMean()\n",
    "cross_validate(algo, data)\n",
    "\n",
    "print(\"\\nMeanOfMeans...\")\n",
    "algo = baselines.MeanofMeans()\n",
    "cross_validate(algo, data)"
   ]
  },
  {
   "cell_type": "markdown",
   "metadata": {},
   "source": [
    "Evaluating RMSE, MAE of algorithm SVD on 5 split(s).\n",
    "\n",
    "                  Fold 1  Fold 2  Fold 3  Fold 4  Fold 5  Mean    Std     \n",
    "RMSE (testset)    0.8721  0.8689  0.8769  0.8609  0.8676  0.8693  0.0053  \n",
    "MAE (testset)     0.6697  0.6674  0.6752  0.6618  0.6667  0.6682  0.0044  \n",
    "Fit time          3.00    2.77    2.96    2.80    2.67    2.84    0.12    \n",
    "Test time         0.35    0.36    0.31    0.30    0.26    0.32    0.04    \n",
    "{'test_rmse': array([0.87209268, 0.86891766, 0.87692285, 0.86086742, 0.86756916]),\n",
    " 'test_mae': array([0.66973578, 0.66740167, 0.67518763, 0.66177259, 0.66667806]),\n",
    " 'fit_time': (3.004497766494751,\n",
    "  2.7695112228393555,\n",
    "  2.956921100616455,\n",
    "  2.801307201385498,\n",
    "  2.6742496490478516),\n",
    " 'test_time': (0.34892988204956055,\n",
    "  0.36215710639953613,\n",
    "  0.3130302429199219,\n",
    "  0.3012969493865967,\n",
    "  0.26192665100097656)}"
   ]
  },
  {
   "cell_type": "markdown",
   "metadata": {},
   "source": [
    "# Predict results for user & movie"
   ]
  },
  {
   "cell_type": "code",
   "execution_count": 35,
   "metadata": {},
   "outputs": [
    {
     "data": {
      "text/plain": [
       "array(['Toy Story (1995)', 'Grumpier Old Men (1995)', 'Heat (1995)', ...,\n",
       "       'Hazard (2005)', 'Blair Witch (2016)', '31 (2016)'], dtype=object)"
      ]
     },
     "execution_count": 35,
     "metadata": {},
     "output_type": "execute_result"
    }
   ],
   "source": [
    "mov_pDF['title'].unique()"
   ]
  },
  {
   "cell_type": "code",
   "execution_count": 42,
   "metadata": {},
   "outputs": [
    {
     "name": "stdout",
     "output_type": "stream",
     "text": [
      "['Matrix, The (1999)', 'Matrix Reloaded, The (2003)', 'Matrix Revolutions, The (2003)']\n"
     ]
    }
   ],
   "source": [
    "def movie_title_search(str):\n",
    "    \n",
    "    title_lst = list()\n",
    "    \n",
    "    for i in mov_pDF['title'].unique():\n",
    "        \n",
    "        if str in i:\n",
    "            title_lst.append(i)\n",
    "    \n",
    "    return title_lst  \n",
    "\n",
    "print(movie_title_search('Matrix'))"
   ]
  },
  {
   "cell_type": "code",
   "execution_count": null,
   "metadata": {},
   "outputs": [],
   "source": []
  }
 ],
 "metadata": {
  "kernelspec": {
   "display_name": "Python 3",
   "language": "python",
   "name": "python3"
  },
  "language_info": {
   "codemirror_mode": {
    "name": "ipython",
    "version": 3
   },
   "file_extension": ".py",
   "mimetype": "text/x-python",
   "name": "python",
   "nbconvert_exporter": "python",
   "pygments_lexer": "ipython3",
   "version": "3.8.6"
  }
 },
 "nbformat": 4,
 "nbformat_minor": 4
}
